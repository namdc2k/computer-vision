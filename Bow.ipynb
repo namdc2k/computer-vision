{
  "cells": [
    {
      "cell_type": "code",
      "source": [
        "! yes | pip3 uninstall opencv-python\n",
        "! yes | pip3 uninstall opencv-contrib-python\n",
        "! yes | pip3 install opencv-python==3.4.2.17\n",
        "! yes | pip3 install opencv-contrib-python==3.4.2.17"
      ],
      "metadata": {
        "id": "IkKL-1HdK80F",
        "colab": {
          "base_uri": "https://localhost:8080/"
        },
        "outputId": "58aa72f8-afbd-4307-e408-5a4b839a613f"
      },
      "id": "IkKL-1HdK80F",
      "execution_count": 1,
      "outputs": [
        {
          "output_type": "stream",
          "name": "stdout",
          "text": [
            "Found existing installation: opencv-python 4.6.0.66\n",
            "Uninstalling opencv-python-4.6.0.66:\n",
            "  Would remove:\n",
            "    /usr/local/lib/python3.7/dist-packages/cv2/*\n",
            "    /usr/local/lib/python3.7/dist-packages/opencv_python-4.6.0.66.dist-info/*\n",
            "    /usr/local/lib/python3.7/dist-packages/opencv_python.libs/libQt5Core-39545cc7.so.5.15.0\n",
            "    /usr/local/lib/python3.7/dist-packages/opencv_python.libs/libQt5Gui-48e93776.so.5.15.0\n",
            "    /usr/local/lib/python3.7/dist-packages/opencv_python.libs/libQt5Test-c38a5234.so.5.15.0\n",
            "    /usr/local/lib/python3.7/dist-packages/opencv_python.libs/libQt5Widgets-e69d94fb.so.5.15.0\n",
            "    /usr/local/lib/python3.7/dist-packages/opencv_python.libs/libQt5XcbQpa-c112ba75.so.5.15.0\n",
            "    /usr/local/lib/python3.7/dist-packages/opencv_python.libs/libX11-xcb-69166bdf.so.1.0.0\n",
            "    /usr/local/lib/python3.7/dist-packages/opencv_python.libs/libXau-00ec42fe.so.6.0.0\n",
            "    /usr/local/lib/python3.7/dist-packages/opencv_python.libs/libavcodec-5896f664.so.58.134.100\n",
            "    /usr/local/lib/python3.7/dist-packages/opencv_python.libs/libavformat-8ef5c7db.so.58.76.100\n",
            "    /usr/local/lib/python3.7/dist-packages/opencv_python.libs/libavutil-9c768859.so.56.70.100\n",
            "    /usr/local/lib/python3.7/dist-packages/opencv_python.libs/libbz2-a273e504.so.1.0.6\n",
            "    /usr/local/lib/python3.7/dist-packages/opencv_python.libs/libcrypto-d21001fc.so.1.1\n",
            "    /usr/local/lib/python3.7/dist-packages/opencv_python.libs/libgfortran-91cc3cb1.so.3.0.0\n",
            "    /usr/local/lib/python3.7/dist-packages/opencv_python.libs/libopenblas-r0-f650aae0.3.3.so\n",
            "    /usr/local/lib/python3.7/dist-packages/opencv_python.libs/libpng16-57e5e0a0.so.16.37.0\n",
            "    /usr/local/lib/python3.7/dist-packages/opencv_python.libs/libquadmath-96973f99.so.0.0.0\n",
            "    /usr/local/lib/python3.7/dist-packages/opencv_python.libs/libssl-c8c53640.so.1.1\n",
            "    /usr/local/lib/python3.7/dist-packages/opencv_python.libs/libswresample-99364a1c.so.3.9.100\n",
            "    /usr/local/lib/python3.7/dist-packages/opencv_python.libs/libswscale-e6451464.so.5.9.100\n",
            "    /usr/local/lib/python3.7/dist-packages/opencv_python.libs/libvpx-f22f1483.so.7.0.0\n",
            "    /usr/local/lib/python3.7/dist-packages/opencv_python.libs/libxcb-icccm-413c9f41.so.4.0.0\n",
            "    /usr/local/lib/python3.7/dist-packages/opencv_python.libs/libxcb-image-e82a276d.so.0.0.0\n",
            "    /usr/local/lib/python3.7/dist-packages/opencv_python.libs/libxcb-keysyms-21015570.so.1.0.0\n",
            "    /usr/local/lib/python3.7/dist-packages/opencv_python.libs/libxcb-randr-a96a5a87.so.0.1.0\n",
            "    /usr/local/lib/python3.7/dist-packages/opencv_python.libs/libxcb-render-637b984a.so.0.0.0\n",
            "    /usr/local/lib/python3.7/dist-packages/opencv_python.libs/libxcb-render-util-43ce00f5.so.0.0.0\n",
            "    /usr/local/lib/python3.7/dist-packages/opencv_python.libs/libxcb-shape-25c2b258.so.0.0.0\n",
            "    /usr/local/lib/python3.7/dist-packages/opencv_python.libs/libxcb-shm-7a199f70.so.0.0.0\n",
            "    /usr/local/lib/python3.7/dist-packages/opencv_python.libs/libxcb-sync-89374f40.so.1.0.0\n",
            "    /usr/local/lib/python3.7/dist-packages/opencv_python.libs/libxcb-util-4d666913.so.1.0.0\n",
            "    /usr/local/lib/python3.7/dist-packages/opencv_python.libs/libxcb-xfixes-9be3ba6f.so.0.0.0\n",
            "    /usr/local/lib/python3.7/dist-packages/opencv_python.libs/libxcb-xinerama-ae147f87.so.0.0.0\n",
            "    /usr/local/lib/python3.7/dist-packages/opencv_python.libs/libxcb-xkb-9ba31ab3.so.1.0.0\n",
            "    /usr/local/lib/python3.7/dist-packages/opencv_python.libs/libxkbcommon-71ae2972.so.0.0.0\n",
            "    /usr/local/lib/python3.7/dist-packages/opencv_python.libs/libxkbcommon-x11-c65ed502.so.0.0.0\n",
            "Proceed (y/n)?   Successfully uninstalled opencv-python-4.6.0.66\n",
            "Found existing installation: opencv-contrib-python 4.6.0.66\n",
            "Uninstalling opencv-contrib-python-4.6.0.66:\n",
            "  Would remove:\n",
            "    /usr/local/lib/python3.7/dist-packages/opencv_contrib_python-4.6.0.66.dist-info/*\n",
            "    /usr/local/lib/python3.7/dist-packages/opencv_contrib_python.libs/libQt5Core-39545cc7.so.5.15.0\n",
            "    /usr/local/lib/python3.7/dist-packages/opencv_contrib_python.libs/libQt5Gui-48e93776.so.5.15.0\n",
            "    /usr/local/lib/python3.7/dist-packages/opencv_contrib_python.libs/libQt5Test-c38a5234.so.5.15.0\n",
            "    /usr/local/lib/python3.7/dist-packages/opencv_contrib_python.libs/libQt5Widgets-e69d94fb.so.5.15.0\n",
            "    /usr/local/lib/python3.7/dist-packages/opencv_contrib_python.libs/libQt5XcbQpa-c112ba75.so.5.15.0\n",
            "    /usr/local/lib/python3.7/dist-packages/opencv_contrib_python.libs/libX11-xcb-69166bdf.so.1.0.0\n",
            "    /usr/local/lib/python3.7/dist-packages/opencv_contrib_python.libs/libXau-00ec42fe.so.6.0.0\n",
            "    /usr/local/lib/python3.7/dist-packages/opencv_contrib_python.libs/libavcodec-5896f664.so.58.134.100\n",
            "    /usr/local/lib/python3.7/dist-packages/opencv_contrib_python.libs/libavformat-8ef5c7db.so.58.76.100\n",
            "    /usr/local/lib/python3.7/dist-packages/opencv_contrib_python.libs/libavutil-9c768859.so.56.70.100\n",
            "    /usr/local/lib/python3.7/dist-packages/opencv_contrib_python.libs/libbz2-a273e504.so.1.0.6\n",
            "    /usr/local/lib/python3.7/dist-packages/opencv_contrib_python.libs/libcrypto-d21001fc.so.1.1\n",
            "    /usr/local/lib/python3.7/dist-packages/opencv_contrib_python.libs/libgfortran-91cc3cb1.so.3.0.0\n",
            "    /usr/local/lib/python3.7/dist-packages/opencv_contrib_python.libs/libopenblas-r0-f650aae0.3.3.so\n",
            "    /usr/local/lib/python3.7/dist-packages/opencv_contrib_python.libs/libpng16-57e5e0a0.so.16.37.0\n",
            "    /usr/local/lib/python3.7/dist-packages/opencv_contrib_python.libs/libquadmath-96973f99.so.0.0.0\n",
            "    /usr/local/lib/python3.7/dist-packages/opencv_contrib_python.libs/libssl-c8c53640.so.1.1\n",
            "    /usr/local/lib/python3.7/dist-packages/opencv_contrib_python.libs/libswresample-99364a1c.so.3.9.100\n",
            "    /usr/local/lib/python3.7/dist-packages/opencv_contrib_python.libs/libswscale-e6451464.so.5.9.100\n",
            "    /usr/local/lib/python3.7/dist-packages/opencv_contrib_python.libs/libvpx-f22f1483.so.7.0.0\n",
            "    /usr/local/lib/python3.7/dist-packages/opencv_contrib_python.libs/libxcb-icccm-413c9f41.so.4.0.0\n",
            "    /usr/local/lib/python3.7/dist-packages/opencv_contrib_python.libs/libxcb-image-e82a276d.so.0.0.0\n",
            "    /usr/local/lib/python3.7/dist-packages/opencv_contrib_python.libs/libxcb-keysyms-21015570.so.1.0.0\n",
            "    /usr/local/lib/python3.7/dist-packages/opencv_contrib_python.libs/libxcb-randr-a96a5a87.so.0.1.0\n",
            "    /usr/local/lib/python3.7/dist-packages/opencv_contrib_python.libs/libxcb-render-637b984a.so.0.0.0\n",
            "    /usr/local/lib/python3.7/dist-packages/opencv_contrib_python.libs/libxcb-render-util-43ce00f5.so.0.0.0\n",
            "    /usr/local/lib/python3.7/dist-packages/opencv_contrib_python.libs/libxcb-shape-25c2b258.so.0.0.0\n",
            "    /usr/local/lib/python3.7/dist-packages/opencv_contrib_python.libs/libxcb-shm-7a199f70.so.0.0.0\n",
            "    /usr/local/lib/python3.7/dist-packages/opencv_contrib_python.libs/libxcb-sync-89374f40.so.1.0.0\n",
            "    /usr/local/lib/python3.7/dist-packages/opencv_contrib_python.libs/libxcb-util-4d666913.so.1.0.0\n",
            "    /usr/local/lib/python3.7/dist-packages/opencv_contrib_python.libs/libxcb-xfixes-9be3ba6f.so.0.0.0\n",
            "    /usr/local/lib/python3.7/dist-packages/opencv_contrib_python.libs/libxcb-xinerama-ae147f87.so.0.0.0\n",
            "    /usr/local/lib/python3.7/dist-packages/opencv_contrib_python.libs/libxcb-xkb-9ba31ab3.so.1.0.0\n",
            "    /usr/local/lib/python3.7/dist-packages/opencv_contrib_python.libs/libxkbcommon-71ae2972.so.0.0.0\n",
            "    /usr/local/lib/python3.7/dist-packages/opencv_contrib_python.libs/libxkbcommon-x11-c65ed502.so.0.0.0\n",
            "Proceed (y/n)?   Successfully uninstalled opencv-contrib-python-4.6.0.66\n",
            "Looking in indexes: https://pypi.org/simple, https://us-python.pkg.dev/colab-wheels/public/simple/\n",
            "Collecting opencv-python==3.4.2.17\n",
            "  Downloading opencv_python-3.4.2.17-cp37-cp37m-manylinux1_x86_64.whl (25.0 MB)\n",
            "\u001b[K     |████████████████████████████████| 25.0 MB 1.2 MB/s \n",
            "\u001b[?25hRequirement already satisfied: numpy>=1.14.5 in /usr/local/lib/python3.7/dist-packages (from opencv-python==3.4.2.17) (1.21.6)\n",
            "Installing collected packages: opencv-python\n",
            "\u001b[31mERROR: pip's dependency resolver does not currently take into account all the packages that are installed. This behaviour is the source of the following dependency conflicts.\n",
            "albumentations 0.1.12 requires imgaug<0.2.7,>=0.2.5, but you have imgaug 0.2.9 which is incompatible.\u001b[0m\n",
            "Successfully installed opencv-python-3.4.2.17\n",
            "Looking in indexes: https://pypi.org/simple, https://us-python.pkg.dev/colab-wheels/public/simple/\n",
            "Collecting opencv-contrib-python==3.4.2.17\n",
            "  Downloading opencv_contrib_python-3.4.2.17-cp37-cp37m-manylinux1_x86_64.whl (30.6 MB)\n",
            "\u001b[K     |████████████████████████████████| 30.6 MB 46 kB/s \n",
            "\u001b[?25hRequirement already satisfied: numpy>=1.14.5 in /usr/local/lib/python3.7/dist-packages (from opencv-contrib-python==3.4.2.17) (1.21.6)\n",
            "Installing collected packages: opencv-contrib-python\n",
            "Successfully installed opencv-contrib-python-3.4.2.17\n"
          ]
        }
      ]
    },
    {
      "cell_type": "code",
      "source": [
        "import os\n",
        "import cv2\n",
        "\n",
        "import numpy as np\n",
        "\n",
        "from glob import glob\n",
        "from PIL import Image\n",
        "from tqdm import tqdm\n",
        "from sklearn.cluster import KMeans\n",
        "from sklearn.cluster import MiniBatchKMeans\n",
        "from sklearn.preprocessing import StandardScaler\n",
        "from sklearn.metrics import classification_report\n",
        "from sklearn.neighbors import KNeighborsClassifier\n",
        "from scipy.cluster.vq import vq\n",
        "from sklearn.metrics import confusion_matrix\n",
        "from sklearn import svm"
      ],
      "metadata": {
        "id": "Hbd5t6vfr1m6"
      },
      "id": "Hbd5t6vfr1m6",
      "execution_count": 2,
      "outputs": []
    },
    {
      "cell_type": "code",
      "source": [
        "from google.colab import drive\n",
        "drive.mount('/content/drive/', force_remount=True)"
      ],
      "metadata": {
        "colab": {
          "base_uri": "https://localhost:8080/"
        },
        "id": "VYwGlC3esGXE",
        "outputId": "38918252-5a7d-42cd-9324-7ea4b1fb71b9"
      },
      "id": "VYwGlC3esGXE",
      "execution_count": 3,
      "outputs": [
        {
          "output_type": "stream",
          "name": "stdout",
          "text": [
            "Mounted at /content/drive/\n"
          ]
        }
      ]
    },
    {
      "cell_type": "code",
      "source": [
        "train_path=\"/content/drive/MyDrive/Colab Notebooks/Computer Vision/101_ObjectCategories\"\n",
        "class_names=os.listdir(train_path)\n",
        "print(class_names)"
      ],
      "metadata": {
        "colab": {
          "base_uri": "https://localhost:8080/"
        },
        "id": "4Fxcst-nDsIX",
        "outputId": "1ad559ea-5d9e-4844-a5e1-d87776457841"
      },
      "id": "4Fxcst-nDsIX",
      "execution_count": 4,
      "outputs": [
        {
          "output_type": "stream",
          "name": "stdout",
          "text": [
            "['brontosaurus', 'brain', 'buddha', 'accordion', 'camera', 'butterfly', 'airplanes', 'car_side', 'crab', 'crocodile', 'crocodile_head', 'crayfish', 'dalmatian', 'cup', 'strawberry', 'pigeon', 'yin_yang', 'stapler', 'panda', 'bonsai', 'dolphin']\n"
          ]
        }
      ]
    },
    {
      "cell_type": "markdown",
      "source": [
        "**Find training images path and Read train images, and compute SIFT descriptors.**"
      ],
      "metadata": {
        "id": "r0WsXkGBc5HZ"
      },
      "id": "r0WsXkGBc5HZ"
    },
    {
      "cell_type": "code",
      "source": [
        "DATA_ROOT = \"/content/drive/MyDrive/Colab Notebooks/Computer Vision/101_ObjectCategories/\"\n",
        "label = 0\n",
        "train_des_sift = list()\n",
        "test_des_sift = list()\n",
        "train_des_surf = list()\n",
        "test_des_surf = list()\n",
        "train_labels = list()\n",
        "test_labels = list()\n",
        "sift=cv2.xfeatures2d.SIFT_create()\n",
        "surf=cv2.xfeatures2d.SURF_create()\n",
        "\n",
        "for cls in tqdm(os.listdir(DATA_ROOT)):\n",
        "  img_list = os.listdir(DATA_ROOT+'/'+cls)\n",
        "  img_list.sort()\n",
        "\n",
        "  for img in img_list[:30]:\n",
        "    image = cv2.imread(DATA_ROOT+'/'+cls+'/'+img)\n",
        "    gray= cv2.cvtColor(image,cv2.COLOR_BGR2GRAY)   \n",
        "    \n",
        "    step_size = 10\n",
        "    kp = [cv2.KeyPoint(x, y, step_size) for y in range(0, gray.shape[0], step_size) for x in range(0, gray.shape[1], step_size)]\n",
        "    keypoint, des = sift.compute(gray, kp)\n",
        "    train_des_sift.append(des)\n",
        "    kp, des = surf.detectAndCompute(gray,None)\n",
        "    \n",
        "    train_des_surf.append(des)\n",
        "    train_labels.append(label)\n",
        "\n",
        "  limit_cnt = 0\n",
        "\n",
        "  for img in img_list[30:]:\n",
        "    if limit_cnt == 50 :\n",
        "      break\n",
        "    image = cv2.imread(DATA_ROOT+'/'+cls+'/'+img)\n",
        "    gray= cv2.cvtColor(image,cv2.COLOR_BGR2GRAY)\n",
        "\n",
        "    step_size = 10\n",
        "    kp = [cv2.KeyPoint(x, y, step_size) for y in range(0, gray.shape[0], step_size) for x in range(0, gray.shape[1], step_size)]\n",
        "    keypoint, des = sift.compute(gray, kp)\n",
        "    test_des_sift.append(des)\n",
        "    kp, des = surf.detectAndCompute(gray,None)\n",
        "    test_des_surf.append(des)\n",
        "    test_labels.append(label)\n",
        "    limit_cnt = limit_cnt +1\n",
        "\n",
        "  label = label + 1"
      ],
      "metadata": {
        "colab": {
          "base_uri": "https://localhost:8080/"
        },
        "id": "TuK3jklQshSO",
        "outputId": "da13e594-8831-46cb-c604-f6a387b26862"
      },
      "id": "TuK3jklQshSO",
      "execution_count": 34,
      "outputs": [
        {
          "output_type": "stream",
          "name": "stderr",
          "text": [
            "100%|██████████| 21/21 [04:18<00:00, 12.30s/it]\n"
          ]
        }
      ]
    },
    {
      "cell_type": "code",
      "source": [
        "train_des_sift[1]"
      ],
      "metadata": {
        "colab": {
          "base_uri": "https://localhost:8080/"
        },
        "id": "B1zKbzbHl288",
        "outputId": "827ace37-c7be-4d0f-f999-dd116c268b2f"
      },
      "id": "B1zKbzbHl288",
      "execution_count": 35,
      "outputs": [
        {
          "output_type": "execute_result",
          "data": {
            "text/plain": [
              "array([[  0.,   0.,   0., ..., 131., 131.,  33.],\n",
              "       [  0.,   0.,   0., ..., 127., 107.,  70.],\n",
              "       [  0.,   0.,   0., ...,  13., 125.,  89.],\n",
              "       ...,\n",
              "       [ 87.,  28.,   6., ...,   0.,   0.,   0.],\n",
              "       [ 75.,  10.,   9., ...,   0.,   0.,   0.],\n",
              "       [ 26.,   5.,  16., ...,   0.,   0.,   0.]], dtype=float32)"
            ]
          },
          "metadata": {},
          "execution_count": 35
        }
      ]
    },
    {
      "cell_type": "markdown",
      "source": [
        "**Dictionary/Vocabulary construction**"
      ],
      "metadata": {
        "id": "fEl280nedBPt"
      },
      "id": "fEl280nedBPt"
    },
    {
      "cell_type": "code",
      "source": [
        "def Kmeans(k,train_des):\n",
        "  train_des_arr = np.array(train_des[0])\n",
        "  for remaining in tqdm(train_des[1:]):\n",
        "    train_des_arr = np.vstack((train_des_arr, remaining))\n",
        "  kmeans = MiniBatchKMeans(n_clusters = k, init='k-means++',\n",
        "                          n_init=10).fit(train_des_arr)\n",
        "  return kmeans\n",
        "kmeans_sift=Kmeans(500,train_des_sift)\n",
        "kmeans_suft=Kmeans(500,train_des_surf)\n"
      ],
      "metadata": {
        "id": "FgUXplefsxOg",
        "colab": {
          "base_uri": "https://localhost:8080/"
        },
        "outputId": "22773685-92cb-4438-b6dd-77a8a1e159b3"
      },
      "id": "FgUXplefsxOg",
      "execution_count": 36,
      "outputs": [
        {
          "output_type": "stream",
          "name": "stderr",
          "text": [
            "100%|██████████| 629/629 [00:22<00:00, 27.41it/s]\n",
            "100%|██████████| 629/629 [00:08<00:00, 76.29it/s]\n"
          ]
        }
      ]
    },
    {
      "cell_type": "markdown",
      "source": [
        "**Vector quantization**"
      ],
      "metadata": {
        "id": "bSIdiC-gdMD4"
      },
      "id": "bSIdiC-gdMD4"
    },
    {
      "cell_type": "code",
      "source": [
        "histogram_train_sift = list()\n",
        "histogram_test_sift = list()\n",
        "histogram_train_surf = list()\n",
        "histogram_test_surf = list()\n",
        "def getHistograms(descriptors, kmeans,des_H):\n",
        "  for i in range(len(des_H)) :\n",
        "    Histogram = vq(des_H[i],kmeans.cluster_centers_)\n",
        "    Feature = np.histogram(Histogram[0],bins=list(range(201)))\n",
        "    descriptors.append(Feature[0])\n",
        "  return np.array(descriptors)\n",
        "histogram_train_sift=getHistograms(histogram_train_sift,kmeans_sift,train_des_sift)\n",
        "histogram_test_sift=getHistograms(histogram_test_sift,kmeans_sift,test_des_sift)\n",
        "histogram_train_surf=getHistograms(histogram_train_surf,kmeans_suft,train_des_surf)\n",
        "histogram_test_surf=getHistograms(histogram_test_surf,kmeans_suft,test_des_surf)\n"
      ],
      "metadata": {
        "id": "MNpNdjY2uE9y"
      },
      "id": "MNpNdjY2uE9y",
      "execution_count": 37,
      "outputs": []
    },
    {
      "cell_type": "code",
      "source": [
        "histogram_train_sift"
      ],
      "metadata": {
        "colab": {
          "base_uri": "https://localhost:8080/"
        },
        "id": "03hMAHGcmKLa",
        "outputId": "aa9a3644-e46b-48c2-ed77-2e0cb4f4f504"
      },
      "id": "03hMAHGcmKLa",
      "execution_count": 38,
      "outputs": [
        {
          "output_type": "execute_result",
          "data": {
            "text/plain": [
              "array([[0, 0, 2, ..., 0, 0, 8],\n",
              "       [4, 0, 0, ..., 0, 0, 3],\n",
              "       [0, 0, 0, ..., 0, 0, 0],\n",
              "       ...,\n",
              "       [0, 0, 0, ..., 0, 0, 3],\n",
              "       [3, 1, 1, ..., 0, 2, 6],\n",
              "       [0, 0, 3, ..., 0, 0, 0]])"
            ]
          },
          "metadata": {},
          "execution_count": 38
        }
      ]
    },
    {
      "cell_type": "markdown",
      "source": [
        "**Calculate term Frequency-Inverse Document Frequency(TF-IDF)**"
      ],
      "metadata": {
        "id": "Q8Qw7twfefa-"
      },
      "id": "Q8Qw7twfefa-"
    },
    {
      "cell_type": "code",
      "source": [
        "def reweight_tf_idf(histograms):\n",
        "    re_hists  = np.zeros(histograms.shape)\n",
        "    N = histograms.shape[0]\n",
        "    n_i = np.sum(histograms > 0, axis=0)\n",
        "    for hist_id in range(histograms.shape[0]):\n",
        "        n_d  = np.sum(histograms[hist_id])\n",
        "        for bin_id in range(len(histograms[hist_id])): \n",
        "            re_hists[hist_id, bin_id] = histograms[hist_id, bin_id]/ n_d * np.log(N/n_i[bin_id])\n",
        "#             print(re_hists[hist_id, bin_id], histograms[hist_id, bin_id], n_d, N, n_i[bin_id])\n",
        "    return re_hists\n",
        "\n",
        "histogram_train_sift_TF = reweight_tf_idf(histogram_train_sift)\n",
        "histogram_test_sift_TF = reweight_tf_idf(histogram_test_sift)\n",
        "\n",
        "histogram_train_surf_TF = reweight_tf_idf(histogram_train_surf)\n",
        "histogram_test_surf_TF = reweight_tf_idf(histogram_test_surf)\n"
      ],
      "metadata": {
        "id": "gex2tNMPdCV2"
      },
      "id": "gex2tNMPdCV2",
      "execution_count": 39,
      "outputs": []
    },
    {
      "cell_type": "code",
      "source": [
        "histogram_train_sift_TF"
      ],
      "metadata": {
        "id": "5_clKWBqe0T8",
        "colab": {
          "base_uri": "https://localhost:8080/"
        },
        "outputId": "380b03df-e1a1-4a07-b466-771ac594e796"
      },
      "id": "5_clKWBqe0T8",
      "execution_count": 40,
      "outputs": [
        {
          "output_type": "execute_result",
          "data": {
            "text/plain": [
              "array([[0.        , 0.        , 0.00700204, ..., 0.        , 0.        ,\n",
              "        0.02306801],\n",
              "       [0.01451332, 0.        , 0.        , ..., 0.        , 0.        ,\n",
              "        0.00773992],\n",
              "       [0.        , 0.        , 0.        , ..., 0.        , 0.        ,\n",
              "        0.        ],\n",
              "       ...,\n",
              "       [0.        , 0.        , 0.        , ..., 0.        , 0.        ,\n",
              "        0.00711574],\n",
              "       [0.01107936, 0.00707076, 0.00318843, ..., 0.        , 0.00961324,\n",
              "        0.01575627],\n",
              "       [0.        , 0.        , 0.00917219, ..., 0.        , 0.        ,\n",
              "        0.        ]])"
            ]
          },
          "metadata": {},
          "execution_count": 40
        }
      ]
    },
    {
      "cell_type": "markdown",
      "source": [
        "**Learned Classifier**"
      ],
      "metadata": {
        "id": "DkBahbkJfCMC"
      },
      "id": "DkBahbkJfCMC"
    },
    {
      "cell_type": "code",
      "source": [
        "svm_model_sift = svm.SVC(gamma='scale')\n",
        "svm_model_sift.fit(histogram_train_sift_TF, train_labels)\n"
      ],
      "metadata": {
        "colab": {
          "base_uri": "https://localhost:8080/"
        },
        "id": "Q2teF-t1uMCY",
        "outputId": "3b5a4a75-c736-4191-a6c9-2ae5434ab16b"
      },
      "id": "Q2teF-t1uMCY",
      "execution_count": 41,
      "outputs": [
        {
          "output_type": "execute_result",
          "data": {
            "text/plain": [
              "SVC()"
            ]
          },
          "metadata": {},
          "execution_count": 41
        }
      ]
    },
    {
      "cell_type": "code",
      "source": [
        "y_predict_sift_svm = svm_model_sift.predict(histogram_test_sift_TF)\n",
        "\n",
        "print(classification_report(test_labels, y_predict_sift_svm, target_names=['brontosaurus', 'brain', 'buddha', 'accordion', 'camera', 'butterfly', 'airplanes', 'car_side', 'crab', 'crocodile', 'crocodile_head', 'crayfish', 'dalmatian', 'cup', 'strawberry', 'pigeon', 'yin_yang', 'stapler', 'panda', 'bonsai', 'dolphin']))"
      ],
      "metadata": {
        "colab": {
          "base_uri": "https://localhost:8080/"
        },
        "id": "cZJZeHv7Qxlt",
        "outputId": "b3b87420-94e8-4a79-eafe-3a17de87e267"
      },
      "id": "cZJZeHv7Qxlt",
      "execution_count": 42,
      "outputs": [
        {
          "output_type": "stream",
          "name": "stdout",
          "text": [
            "                precision    recall  f1-score   support\n",
            "\n",
            "  brontosaurus       0.40      0.31      0.35        13\n",
            "         brain       0.87      0.40      0.55        50\n",
            "        buddha       0.59      0.26      0.36        50\n",
            "     accordion       0.92      0.92      0.92        25\n",
            "        camera       0.40      0.70      0.51        20\n",
            "     butterfly       0.46      0.52      0.49        50\n",
            "     airplanes       0.91      0.80      0.85        50\n",
            "      car_side       0.93      0.78      0.85        50\n",
            "          crab       0.23      0.47      0.31        43\n",
            "     crocodile       0.75      0.15      0.25        20\n",
            "crocodile_head       0.17      0.48      0.25        21\n",
            "      crayfish       0.43      0.15      0.22        40\n",
            "     dalmatian       0.69      0.65      0.67        37\n",
            "           cup       0.33      0.37      0.35        27\n",
            "    strawberry       0.12      0.60      0.21         5\n",
            "        pigeon       0.33      0.20      0.25        15\n",
            "      yin_yang       0.88      0.70      0.78        30\n",
            "       stapler       0.45      0.33      0.38        15\n",
            "         panda       0.16      0.62      0.26         8\n",
            "        bonsai       0.59      0.32      0.42        50\n",
            "       dolphin       0.27      0.31      0.29        35\n",
            "\n",
            "      accuracy                           0.48       654\n",
            "     macro avg       0.52      0.48      0.45       654\n",
            "  weighted avg       0.59      0.48      0.50       654\n",
            "\n"
          ]
        }
      ]
    },
    {
      "cell_type": "code",
      "source": [
        "knn_SIFT = KNeighborsClassifier(n_neighbors=1)\n",
        "knn_SIFT.fit(histogram_train_sift_TF, train_labels)"
      ],
      "metadata": {
        "colab": {
          "base_uri": "https://localhost:8080/"
        },
        "id": "YyAB7D4Rxx1z",
        "outputId": "f68c14d8-1fdc-4727-9b08-642282d77b9b"
      },
      "id": "YyAB7D4Rxx1z",
      "execution_count": 43,
      "outputs": [
        {
          "output_type": "execute_result",
          "data": {
            "text/plain": [
              "KNeighborsClassifier(n_neighbors=1)"
            ]
          },
          "metadata": {},
          "execution_count": 43
        }
      ]
    },
    {
      "cell_type": "code",
      "source": [
        "y_predict_sift_knn = knn_SIFT.predict(histogram_test_sift_TF)\n",
        "\n",
        "print(classification_report(test_labels, y_predict_sift_knn,target_names=['brontosaurus', 'brain', 'buddha', 'accordion', 'camera', 'butterfly', 'airplanes', 'car_side', 'crab', 'crocodile', 'crocodile_head',\n",
        "                                                                          'crayfish', 'dalmatian', 'cup', 'strawberry', 'pigeon', 'yin_yang', 'stapler', 'panda', 'bonsai', 'dolphin']))"
      ],
      "metadata": {
        "id": "wL-JsOHOyeTn",
        "colab": {
          "base_uri": "https://localhost:8080/"
        },
        "outputId": "cfcb9a0b-35e8-429c-81e2-dbbc09c4580e"
      },
      "id": "wL-JsOHOyeTn",
      "execution_count": 44,
      "outputs": [
        {
          "output_type": "stream",
          "name": "stdout",
          "text": [
            "                precision    recall  f1-score   support\n",
            "\n",
            "  brontosaurus       0.09      0.15      0.11        13\n",
            "         brain       0.58      0.44      0.50        50\n",
            "        buddha       0.35      0.22      0.27        50\n",
            "     accordion       0.94      0.68      0.79        25\n",
            "        camera       0.27      0.60      0.37        20\n",
            "     butterfly       0.34      0.22      0.27        50\n",
            "     airplanes       0.86      0.62      0.72        50\n",
            "      car_side       0.78      0.78      0.78        50\n",
            "          crab       0.15      0.19      0.17        43\n",
            "     crocodile       0.17      0.15      0.16        20\n",
            "crocodile_head       0.15      0.29      0.20        21\n",
            "      crayfish       0.38      0.12      0.19        40\n",
            "     dalmatian       0.44      0.32      0.38        37\n",
            "           cup       0.23      0.19      0.20        27\n",
            "    strawberry       0.21      0.60      0.32         5\n",
            "        pigeon       0.13      0.27      0.17        15\n",
            "      yin_yang       0.77      0.77      0.77        30\n",
            "       stapler       0.57      0.27      0.36        15\n",
            "         panda       0.03      0.25      0.05         8\n",
            "        bonsai       0.38      0.28      0.32        50\n",
            "       dolphin       0.22      0.14      0.17        35\n",
            "\n",
            "      accuracy                           0.37       654\n",
            "     macro avg       0.38      0.36      0.35       654\n",
            "  weighted avg       0.44      0.37      0.39       654\n",
            "\n"
          ]
        }
      ]
    },
    {
      "cell_type": "code",
      "source": [
        "svm_model_suft = svm.SVC(gamma='scale')\n",
        "svm_model_suft.fit(histogram_train_surf_TF, train_labels)"
      ],
      "metadata": {
        "colab": {
          "base_uri": "https://localhost:8080/"
        },
        "id": "5jM-Ib-0uNob",
        "outputId": "714ea54d-5f6c-4369-894c-c289d8c8a64e"
      },
      "id": "5jM-Ib-0uNob",
      "execution_count": 45,
      "outputs": [
        {
          "output_type": "execute_result",
          "data": {
            "text/plain": [
              "SVC()"
            ]
          },
          "metadata": {},
          "execution_count": 45
        }
      ]
    },
    {
      "cell_type": "code",
      "source": [
        "y_predict_surf_svm = svm_model_suft.predict(histogram_test_surf_TF)\n",
        "\n",
        "print(classification_report(test_labels, y_predict_surf_svm,target_names=['brontosaurus', 'brain', 'buddha', 'accordion', 'camera', 'butterfly', 'airplanes', 'car_side', 'crab', 'crocodile', 'crocodile_head',\n",
        "                                                                          'crayfish', 'dalmatian', 'cup', 'strawberry', 'pigeon', 'yin_yang', 'stapler', 'panda', 'bonsai', 'dolphin']))\n"
      ],
      "metadata": {
        "colab": {
          "base_uri": "https://localhost:8080/"
        },
        "id": "SKJ_-n49RQFh",
        "outputId": "3cb12939-281f-4e37-e619-2ecb1879a263"
      },
      "id": "SKJ_-n49RQFh",
      "execution_count": 46,
      "outputs": [
        {
          "output_type": "stream",
          "name": "stdout",
          "text": [
            "                precision    recall  f1-score   support\n",
            "\n",
            "  brontosaurus       0.15      0.15      0.15        13\n",
            "         brain       0.73      0.44      0.55        50\n",
            "        buddha       0.34      0.38      0.36        50\n",
            "     accordion       0.73      0.44      0.55        25\n",
            "        camera       0.24      0.45      0.32        20\n",
            "     butterfly       0.21      0.08      0.12        50\n",
            "     airplanes       0.74      0.56      0.64        50\n",
            "      car_side       0.76      0.58      0.66        50\n",
            "          crab       0.20      0.28      0.24        43\n",
            "     crocodile       0.30      0.30      0.30        20\n",
            "crocodile_head       0.14      0.62      0.23        21\n",
            "      crayfish       0.33      0.05      0.09        40\n",
            "     dalmatian       0.57      0.65      0.61        37\n",
            "           cup       0.08      0.07      0.08        27\n",
            "    strawberry       0.30      0.60      0.40         5\n",
            "        pigeon       0.29      0.13      0.18        15\n",
            "      yin_yang       0.61      0.67      0.63        30\n",
            "       stapler       0.23      0.53      0.32        15\n",
            "         panda       0.09      0.25      0.13         8\n",
            "        bonsai       0.60      0.42      0.49        50\n",
            "       dolphin       0.39      0.26      0.31        35\n",
            "\n",
            "      accuracy                           0.38       654\n",
            "     macro avg       0.38      0.38      0.35       654\n",
            "  weighted avg       0.44      0.38      0.39       654\n",
            "\n"
          ]
        }
      ]
    },
    {
      "cell_type": "code",
      "source": [
        "knn_SURF = KNeighborsClassifier(n_neighbors=1)\n",
        "knn_SURF.fit(histogram_train_surf_TF, train_labels)"
      ],
      "metadata": {
        "colab": {
          "base_uri": "https://localhost:8080/"
        },
        "id": "N5HDJ1K_RcRX",
        "outputId": "0c10ce45-6158-4eec-b929-3483c0848044"
      },
      "id": "N5HDJ1K_RcRX",
      "execution_count": 47,
      "outputs": [
        {
          "output_type": "execute_result",
          "data": {
            "text/plain": [
              "KNeighborsClassifier(n_neighbors=1)"
            ]
          },
          "metadata": {},
          "execution_count": 47
        }
      ]
    },
    {
      "cell_type": "code",
      "source": [
        "y_predict_surf_knn = knn_SURF.predict(histogram_test_surf_TF)\n",
        "\n",
        "print(classification_report(test_labels, y_predict_surf_knn,target_names=['brontosaurus', 'brain', 'buddha', 'accordion', 'camera', 'butterfly', 'airplanes', 'car_side', 'crab', 'crocodile', 'crocodile_head',\n",
        "                                                                          'crayfish', 'dalmatian', 'cup', 'strawberry', 'pigeon', 'yin_yang', 'stapler', 'panda', 'bonsai', 'dolphin']))"
      ],
      "metadata": {
        "colab": {
          "base_uri": "https://localhost:8080/"
        },
        "id": "tgafZ4obRcdN",
        "outputId": "9ed0174d-0590-453e-8339-4c227e8e9981"
      },
      "id": "tgafZ4obRcdN",
      "execution_count": 48,
      "outputs": [
        {
          "output_type": "stream",
          "name": "stdout",
          "text": [
            "                precision    recall  f1-score   support\n",
            "\n",
            "  brontosaurus       0.07      0.23      0.11        13\n",
            "         brain       0.52      0.30      0.38        50\n",
            "        buddha       0.22      0.22      0.22        50\n",
            "     accordion       0.73      0.44      0.55        25\n",
            "        camera       0.15      0.35      0.21        20\n",
            "     butterfly       0.29      0.12      0.17        50\n",
            "     airplanes       0.54      0.28      0.37        50\n",
            "      car_side       0.83      0.10      0.18        50\n",
            "          crab       0.13      0.26      0.17        43\n",
            "     crocodile       0.17      0.20      0.19        20\n",
            "crocodile_head       0.08      0.19      0.11        21\n",
            "      crayfish       0.07      0.05      0.06        40\n",
            "     dalmatian       0.25      0.46      0.33        37\n",
            "           cup       0.06      0.04      0.04        27\n",
            "    strawberry       0.19      0.60      0.29         5\n",
            "        pigeon       0.13      0.27      0.17        15\n",
            "      yin_yang       0.78      0.47      0.58        30\n",
            "       stapler       0.22      0.27      0.24        15\n",
            "         panda       0.04      0.12      0.06         8\n",
            "        bonsai       0.54      0.28      0.37        50\n",
            "       dolphin       0.56      0.14      0.23        35\n",
            "\n",
            "      accuracy                           0.24       654\n",
            "     macro avg       0.31      0.26      0.24       654\n",
            "  weighted avg       0.37      0.24      0.25       654\n",
            "\n"
          ]
        }
      ]
    },
    {
      "cell_type": "code",
      "source": [
        "from sklearn.metrics import confusion_matrix\n",
        "import matplotlib.pyplot as plt\n",
        "def plot_confusion_matrix(cm, classes,normalize=False,title='Confusion matrix',cmap=plt.cm.Reds):\n",
        "    cm = cm.astype('float') / cm.sum(axis=1)[:, np.newaxis]\n",
        "    fig, ax = plt.subplots(figsize=(12,12))\n",
        "    im = ax.imshow(cm, interpolation='nearest', cmap=cmap)\n",
        "    ax.figure.colorbar(im, ax=ax)\n",
        "\n",
        "    ax.set(xticks=np.arange(cm.shape[1]),\n",
        "           yticks=np.arange(cm.shape[0]),\n",
        "           xticklabels=classes, yticklabels=classes,\n",
        "           title=title,\n",
        "           ylabel='True label',\n",
        "           xlabel='Predicted label')\n",
        "    plt.setp(ax.get_xticklabels(), rotation=90, ha=\"right\",rotation_mode=\"anchor\")\n",
        "    fmt = '.2f'\n",
        "    thresh = cm.max() / 2.\n",
        "    for i in range(cm.shape[0]):\n",
        "        for j in range(cm.shape[1]):\n",
        "            ax.text(j, i, format(cm[i, j], fmt),ha=\"center\", va=\"center\",color=\"white\" if cm[i, j] > thresh else \"black\")\n",
        "    \n",
        "    fig.tight_layout()\n",
        "    return ax\n",
        "c_names=['brontosaurus', 'brain', 'buddha', 'accordion', 'camera', 'butterfly', 'airplanes', 'car_side', 'crab', 'crocodile', 'crocodile_head',\n",
        "                                                                          'crayfish', 'dalmatian', 'cup', 'strawberry', 'pigeon', 'yin_yang', 'stapler', 'panda', 'bonsai', 'dolphin']\n",
        "cm2 = confusion_matrix(y_predict_sift_svm, test_labels)\n",
        "fig=plot_confusion_matrix(cm2, c_names, normalize=True)\n",
        "plt.show()"
      ],
      "metadata": {
        "colab": {
          "base_uri": "https://localhost:8080/",
          "height": 841
        },
        "id": "PX-6dz2q6hB2",
        "outputId": "c6d64d75-674e-4696-f148-948ef56f6d40"
      },
      "id": "PX-6dz2q6hB2",
      "execution_count": 49,
      "outputs": [
        {
          "output_type": "display_data",
          "data": {
            "text/plain": [
              "<Figure size 864x864 with 2 Axes>"
            ],
            "image/png": "[encoded data removed]"
          },
          "metadata": {
            "needs_background": "light"
          }
        }
      ]
    }
  ],
  "metadata": {
    "kernelspec": {
      "display_name": "Python 3 (ipykernel)",
      "language": "python",
      "name": "python3"
    },
    "language_info": {
      "codemirror_mode": {
        "name": "ipython",
        "version": 3
      },
      "file_extension": ".py",
      "mimetype": "text/x-python",
      "name": "python",
      "nbconvert_exporter": "python",
      "pygments_lexer": "ipython3",
      "version": "3.10.0"
    },
    "colab": {
      "name": "Bow.ipynb",
      "provenance": [],
      "collapsed_sections": []
    }
  },
  "nbformat": 4,
  "nbformat_minor": 5
}